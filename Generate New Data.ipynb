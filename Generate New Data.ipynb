{
 "cells": [
  {
   "cell_type": "code",
   "execution_count": 2,
   "id": "4a9f3a78-3e8d-4fad-98f9-ac75b4abb3ee",
   "metadata": {},
   "outputs": [],
   "source": [
    "import numpy as np \n",
    "import pandas as pd\n",
    "import os, re\n",
    "import matplotlib.pyplot as plt\n",
    "from tqdm import tqdm\n",
    "from numba import njit\n",
    "from time import perf_counter as pc\n",
    "\n",
    "pd.set_option('display.max_rows', 500)\n",
    "pd.set_option('display.max_columns', 500)\n",
    "pd.set_option('display.width', 1000)\n",
    "\n",
    "# plt.style.use([\"notebook\", \"science\"])\n",
    "plt.rcParams[\"figure.figsize\"] = [15, 7]\n",
    "plt.rcParams[\"figure.dpi\"] = 150\n",
    "plt.rcParams[\"lines.linewidth\"] = 2\n",
    "\n",
    "np.set_printoptions(linewidth=200)\n",
    "np.set_printoptions(precision=3)"
   ]
  },
  {
   "cell_type": "code",
   "execution_count": 19,
   "id": "f472262a-2a3a-40fe-8877-d81103f91266",
   "metadata": {},
   "outputs": [
    {
     "name": "stderr",
     "output_type": "stream",
     "text": [
      "100%|██████████| 4889/4889 [00:01<00:00, 2717.24it/s]\n"
     ]
    }
   ],
   "source": [
    "map_path = \"raw txt-input 4889 samples 10 nodes/\"\n",
    "\n",
    "dir_list = os.listdir(map_path) # all the files\n",
    "paths = [file for file in dir_list if file.endswith(\".txt\")] # filtering out files which is not txt\n",
    "# a list with arrays \n",
    "dataset = [np.loadtxt(map_path + path) for path in tqdm(paths)]"
   ]
  },
  {
   "cell_type": "markdown",
   "id": "9fb90f4b-b2f6-4f18-9d8d-3409ffb72e91",
   "metadata": {},
   "source": [
    "Using 5 different seeds {0,1,2,3,4} to generate different perturbations to the original LHGR dataset. The result is a perturbed dataset that is 5 times larger than the original."
   ]
  },
  {
   "cell_type": "code",
   "execution_count": 20,
   "id": "96fcf9e2-e305-40a2-9e0c-f03302f8d448",
   "metadata": {},
   "outputs": [],
   "source": [
    "def generate_new_LHGR(LHGR, noise_factor=0, seed=0):\n",
    "    np.random.seed(seed)\n",
    "    noise = noise_factor * np.random.rand(*LHGR.shape)\n",
    "    fft_data = np.fft.fft(LHGR) + noise\n",
    "    frequency_data = np.fft.ifft(fft_data)\n",
    "    return frequency_data.real\n",
    "\n",
    "def generate_new_LHGRs(dataset, noise_factor=0, seed=0):\n",
    "    new_LHGRs = []\n",
    "    for i, data in enumerate(dataset):\n",
    "        LHGR_perturbed = generate_new_LHGR(data, noise_factor, seed)\n",
    "        new_LHGRs.append(LHGR_perturbed - noise_factor/2)\n",
    "    return new_LHGRs\n",
    "    \n",
    "new_dataset = [generate_new_LHGRs(dataset, 20, seed) for seed in range(5)]\n",
    "result = np.asanyarray(new_dataset, dtype=object)"
   ]
  },
  {
   "cell_type": "code",
   "execution_count": 22,
   "id": "aaf68cf6-e9a2-44a0-a886-274e1185dd7e",
   "metadata": {},
   "outputs": [],
   "source": [
    "np.save(\"raw npy-input 24445 samples 10 nodes/perturbed_LHGR_dataset.npy\", result)\n",
    "np.save(\"raw npy-input 30930 samples 10 nodes/perturbed_LHGR_dataset.npy\", result)"
   ]
  },
  {
   "cell_type": "code",
   "execution_count": 23,
   "id": "34647edb-0fd8-4713-a49b-91016f1045f4",
   "metadata": {},
   "outputs": [],
   "source": [
    "dataset1 = np.load(\"raw npy-input 30930 samples 10 nodes/perturbed_LHGR_dataset.npy\", allow_pickle=True)\n",
    "dataset2 = np.load(\"raw npy-input 24445 samples 10 nodes/perturbed_LHGR_dataset.npy\", allow_pickle=True)\n",
    "total_dataset = np.concatenate([dataset1, dataset2], axis=-1).flatten() "
   ]
  },
  {
   "cell_type": "code",
   "execution_count": 18,
   "id": "53d4fa11-6154-47b7-89fc-54fe614ea73a",
   "metadata": {},
   "outputs": [
    {
     "data": {
      "text/plain": [
       "(34, 10)"
      ]
     },
     "execution_count": 18,
     "metadata": {},
     "output_type": "execute_result"
    }
   ],
   "source": [
    "total_dataset[34787].shape"
   ]
  },
  {
   "cell_type": "code",
   "execution_count": null,
   "id": "60e9ed11-ada4-438e-8711-5a0715f1d5a3",
   "metadata": {},
   "outputs": [],
   "source": []
  },
  {
   "cell_type": "code",
   "execution_count": null,
   "id": "98a220c0-3b7b-4b3f-8dd4-0cfcb761de4d",
   "metadata": {},
   "outputs": [],
   "source": []
  },
  {
   "cell_type": "code",
   "execution_count": null,
   "id": "8dc451b0-1eca-496d-a70c-00bba1756ecb",
   "metadata": {},
   "outputs": [],
   "source": []
  },
  {
   "cell_type": "code",
   "execution_count": null,
   "id": "db23142f-d518-4edc-bfab-7d94a60d404a",
   "metadata": {},
   "outputs": [],
   "source": []
  }
 ],
 "metadata": {
  "kernelspec": {
   "display_name": "Python 3",
   "language": "python",
   "name": "python3"
  },
  "language_info": {
   "codemirror_mode": {
    "name": "ipython",
    "version": 3
   },
   "file_extension": ".py",
   "mimetype": "text/x-python",
   "name": "python",
   "nbconvert_exporter": "python",
   "pygments_lexer": "ipython3",
   "version": "3.8.5"
  }
 },
 "nbformat": 4,
 "nbformat_minor": 5
}
