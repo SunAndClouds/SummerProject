{
 "cells": [
  {
   "cell_type": "code",
   "execution_count": 3,
   "id": "4a9f3a78-3e8d-4fad-98f9-ac75b4abb3ee",
   "metadata": {},
   "outputs": [
    {
     "data": {
      "text/plain": [
       "6186"
      ]
     },
     "execution_count": 3,
     "metadata": {},
     "output_type": "execute_result"
    }
   ],
   "source": [
    "import os\n",
    "\n",
    "sum([file.endswith(\"txt\") for file in os.listdir(\"raw txt-input 6186 samples 10 nodes/\")])"
   ]
  },
  {
   "cell_type": "code",
   "execution_count": null,
   "id": "f472262a-2a3a-40fe-8877-d81103f91266",
   "metadata": {},
   "outputs": [],
   "source": []
  }
 ],
 "metadata": {
  "kernelspec": {
   "display_name": "Python 3",
   "language": "python",
   "name": "python3"
  },
  "language_info": {
   "codemirror_mode": {
    "name": "ipython",
    "version": 3
   },
   "file_extension": ".py",
   "mimetype": "text/x-python",
   "name": "python",
   "nbconvert_exporter": "python",
   "pygments_lexer": "ipython3",
   "version": "3.8.5"
  }
 },
 "nbformat": 4,
 "nbformat_minor": 5
}
